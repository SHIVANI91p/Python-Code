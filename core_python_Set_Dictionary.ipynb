{
 "cells": [
  {
   "cell_type": "markdown",
   "id": "e2b77cfb",
   "metadata": {},
   "source": [
    "# Set"
   ]
  },
  {
   "cell_type": "code",
   "execution_count": 42,
   "id": "278cbc3b",
   "metadata": {},
   "outputs": [
    {
     "data": {
      "text/plain": [
       "{11, 13.7, True, 'apple', 'banana', 'nnn'}"
      ]
     },
     "execution_count": 42,
     "metadata": {},
     "output_type": "execute_result"
    }
   ],
   "source": [
    "a={\"apple\",\"banana\",\"nnn\",11,13.7,True,\"banana\",\"apple\"}   #duplicates are not allowed\n",
    "a"
   ]
  },
  {
   "cell_type": "code",
   "execution_count": 43,
   "id": "749b3481",
   "metadata": {},
   "outputs": [
    {
     "data": {
      "text/plain": [
       "{11, 13.7, True, 'apple', 'banana', 'nnn'}"
      ]
     },
     "execution_count": 43,
     "metadata": {},
     "output_type": "execute_result"
    }
   ],
   "source": [
    "a={\"apple\",\"banana\",\"nnn\",11,13.7,True,\"banana\",\"apple\",1}\n",
    "a"
   ]
  },
  {
   "cell_type": "code",
   "execution_count": 44,
   "id": "83959ee3",
   "metadata": {},
   "outputs": [
    {
     "data": {
      "text/plain": [
       "{1, 11, 13.7, 'apple', 'banana', 'nnn'}"
      ]
     },
     "execution_count": 44,
     "metadata": {},
     "output_type": "execute_result"
    }
   ],
   "source": [
    "a={\"apple\",\"banana\",\"nnn\",11,13.7,1,True,\"banana\",\"apple\"}\n",
    "a"
   ]
  },
  {
   "cell_type": "code",
   "execution_count": 45,
   "id": "bbe1a950",
   "metadata": {},
   "outputs": [
    {
     "data": {
      "text/plain": [
       "6"
      ]
     },
     "execution_count": 45,
     "metadata": {},
     "output_type": "execute_result"
    }
   ],
   "source": [
    "len(a)"
   ]
  },
  {
   "cell_type": "code",
   "execution_count": 46,
   "id": "276ba10e",
   "metadata": {},
   "outputs": [
    {
     "name": "stdout",
     "output_type": "stream",
     "text": [
      "<class 'set'>\n"
     ]
    }
   ],
   "source": [
    "print(type(a))"
   ]
  },
  {
   "cell_type": "code",
   "execution_count": 47,
   "id": "e6150317",
   "metadata": {},
   "outputs": [
    {
     "name": "stdout",
     "output_type": "stream",
     "text": [
      "1\n",
      "banana\n",
      "apple\n",
      "nnn\n",
      "11\n",
      "13.7\n"
     ]
    }
   ],
   "source": [
    "a={\"apple\",\"banana\",\"nnn\",11,13.7,1,True,\"banana\",\"apple\",1}\n",
    "for i in a:\n",
    "    print(i)"
   ]
  },
  {
   "cell_type": "code",
   "execution_count": 48,
   "id": "fb5b6d79",
   "metadata": {},
   "outputs": [
    {
     "data": {
      "text/plain": [
       "{1, 11, 13.7, 'apple', 'banana', 'nnn', 'orange'}"
      ]
     },
     "execution_count": 48,
     "metadata": {},
     "output_type": "execute_result"
    }
   ],
   "source": [
    "a.add(\"orange\")\n",
    "a"
   ]
  },
  {
   "cell_type": "code",
   "execution_count": 49,
   "id": "de62b8be",
   "metadata": {},
   "outputs": [
    {
     "data": {
      "text/plain": [
       "{'mango', 'papaya'}"
      ]
     },
     "execution_count": 49,
     "metadata": {},
     "output_type": "execute_result"
    }
   ],
   "source": [
    "b={\"mango\",\"papaya\"}\n",
    "b\n"
   ]
  },
  {
   "cell_type": "code",
   "execution_count": 50,
   "id": "dac1e724",
   "metadata": {},
   "outputs": [
    {
     "data": {
      "text/plain": [
       "{1, 11, 13.7, 'apple', 'banana', 'mango', 'nnn', 'orange', 'papaya'}"
      ]
     },
     "execution_count": 50,
     "metadata": {},
     "output_type": "execute_result"
    }
   ],
   "source": [
    "a.update(b)\n",
    "a"
   ]
  },
  {
   "cell_type": "code",
   "execution_count": 51,
   "id": "df79f53d",
   "metadata": {},
   "outputs": [
    {
     "data": {
      "text/plain": [
       "{1, 11, 13.7, 'apple', 'banana', 'mango', 'orange', 'papaya'}"
      ]
     },
     "execution_count": 51,
     "metadata": {},
     "output_type": "execute_result"
    }
   ],
   "source": [
    "a.remove(\"nnn\")\n",
    "a"
   ]
  },
  {
   "cell_type": "code",
   "execution_count": 52,
   "id": "6a0a056b",
   "metadata": {},
   "outputs": [
    {
     "data": {
      "text/plain": [
       "{11, 13.7, 'apple', 'banana', 'mango', 'orange', 'papaya'}"
      ]
     },
     "execution_count": 52,
     "metadata": {},
     "output_type": "execute_result"
    }
   ],
   "source": [
    "a.discard(1)\n",
    "a"
   ]
  },
  {
   "cell_type": "code",
   "execution_count": 53,
   "id": "4b1322ad",
   "metadata": {},
   "outputs": [
    {
     "data": {
      "text/plain": [
       "{11, 13.7, 'apple', 'banana', 'orange', 'papaya'}"
      ]
     },
     "execution_count": 53,
     "metadata": {},
     "output_type": "execute_result"
    }
   ],
   "source": [
    "a.pop()      #pop(will remove random item\n",
    "a"
   ]
  },
  {
   "cell_type": "code",
   "execution_count": 54,
   "id": "301fb14a",
   "metadata": {},
   "outputs": [
    {
     "data": {
      "text/plain": [
       "{11, 13.7, 'banana', 'orange', 'papaya'}"
      ]
     },
     "execution_count": 54,
     "metadata": {},
     "output_type": "execute_result"
    }
   ],
   "source": [
    "a.pop()\n",
    "a"
   ]
  },
  {
   "cell_type": "code",
   "execution_count": 55,
   "id": "70eaca62",
   "metadata": {},
   "outputs": [
    {
     "data": {
      "text/plain": [
       "set()"
      ]
     },
     "execution_count": 55,
     "metadata": {},
     "output_type": "execute_result"
    }
   ],
   "source": [
    "a.clear()\n",
    "a"
   ]
  },
  {
   "cell_type": "code",
   "execution_count": 56,
   "id": "7538ed9b",
   "metadata": {},
   "outputs": [],
   "source": [
    "del a\n"
   ]
  },
  {
   "cell_type": "code",
   "execution_count": 57,
   "id": "7f297f76",
   "metadata": {},
   "outputs": [
    {
     "data": {
      "text/plain": [
       "True"
      ]
     },
     "execution_count": 57,
     "metadata": {},
     "output_type": "execute_result"
    }
   ],
   "source": [
    "a={5,4}\n",
    "b={1,2,4,5}\n",
    "a<b\n"
   ]
  },
  {
   "cell_type": "code",
   "execution_count": 58,
   "id": "66454166",
   "metadata": {},
   "outputs": [
    {
     "name": "stdout",
     "output_type": "stream",
     "text": [
      "16\n"
     ]
    }
   ],
   "source": [
    "a={1,2,3,4,5,6,7,8}\n",
    "print(len(a)*2)"
   ]
  },
  {
   "cell_type": "code",
   "execution_count": 59,
   "id": "d24e7d09",
   "metadata": {},
   "outputs": [
    {
     "data": {
      "text/plain": [
       "{1, 2, 3, 'a', 'b', 'c'}"
      ]
     },
     "execution_count": 59,
     "metadata": {},
     "output_type": "execute_result"
    }
   ],
   "source": [
    "set1={'a','b','c'}\n",
    "set2={1,2,3}\n",
    "set3=set1.union(set2)\n",
    "set3"
   ]
  },
  {
   "cell_type": "code",
   "execution_count": 60,
   "id": "ad7573a7",
   "metadata": {},
   "outputs": [
    {
     "data": {
      "text/plain": [
       "{1, 2, 3, 'a', 'b', 'c'}"
      ]
     },
     "execution_count": 60,
     "metadata": {},
     "output_type": "execute_result"
    }
   ],
   "source": [
    "set1={'a','b','c'}\n",
    "set2={1,2,3}\n",
    "set1.update(set2)\n",
    "set1"
   ]
  },
  {
   "cell_type": "code",
   "execution_count": 61,
   "id": "15baf334",
   "metadata": {},
   "outputs": [
    {
     "data": {
      "text/plain": [
       "{'a', 'b'}"
      ]
     },
     "execution_count": 61,
     "metadata": {},
     "output_type": "execute_result"
    }
   ],
   "source": [
    "set1={'a','b','c'}\n",
    "set2={'a','b','d','e'}\n",
    "set3=set1.intersection(set2)\n",
    "set3"
   ]
  },
  {
   "cell_type": "code",
   "execution_count": 62,
   "id": "1d8e436a",
   "metadata": {},
   "outputs": [
    {
     "data": {
      "text/plain": [
       "{'a', 'b'}"
      ]
     },
     "execution_count": 62,
     "metadata": {},
     "output_type": "execute_result"
    }
   ],
   "source": [
    "set1={'a','b','c'}\n",
    "set2={'a','b','d','e'}\n",
    "set1.intersection_update(set2)\n",
    "set1"
   ]
  },
  {
   "cell_type": "code",
   "execution_count": 63,
   "id": "1c4f70f6",
   "metadata": {},
   "outputs": [
    {
     "data": {
      "text/plain": [
       "{'c', 'd', 'e'}"
      ]
     },
     "execution_count": 63,
     "metadata": {},
     "output_type": "execute_result"
    }
   ],
   "source": [
    "set1={'a','b','c'}\n",
    "set2={'a','b','d','e'}\n",
    "set3=set1.symmetric_difference(set2)\n",
    "set3"
   ]
  },
  {
   "cell_type": "code",
   "execution_count": 64,
   "id": "e761859a",
   "metadata": {},
   "outputs": [
    {
     "data": {
      "text/plain": [
       "{'c', 'd', 'e'}"
      ]
     },
     "execution_count": 64,
     "metadata": {},
     "output_type": "execute_result"
    }
   ],
   "source": [
    "set1={'a','b','c'}\n",
    "set2={'a','b','d','e'}\n",
    "set2.symmetric_difference_update(set1)\n",
    "set2"
   ]
  },
  {
   "cell_type": "code",
   "execution_count": 65,
   "id": "177a5050",
   "metadata": {},
   "outputs": [
    {
     "data": {
      "text/plain": [
       "False"
      ]
     },
     "execution_count": 65,
     "metadata": {},
     "output_type": "execute_result"
    }
   ],
   "source": [
    "a={5,4}\n",
    "b={1,2,3,4}\n",
    "a<b"
   ]
  },
  {
   "cell_type": "code",
   "execution_count": 66,
   "id": "dd9ddc6c",
   "metadata": {},
   "outputs": [
    {
     "name": "stdout",
     "output_type": "stream",
     "text": [
      "{4, 5}\n",
      "{8, 2}\n"
     ]
    }
   ],
   "source": [
    "a={4,5,6}\n",
    "b={2,8,6}\n",
    "print(a-b)\n",
    "print(b-a)"
   ]
  },
  {
   "cell_type": "code",
   "execution_count": null,
   "id": "29fb2a12",
   "metadata": {},
   "outputs": [],
   "source": []
  },
  {
   "cell_type": "markdown",
   "id": "21509b9c",
   "metadata": {},
   "source": [
    "# Dictionary"
   ]
  },
  {
   "cell_type": "code",
   "execution_count": 67,
   "id": "0506a010",
   "metadata": {},
   "outputs": [
    {
     "data": {
      "text/plain": [
       "{'brand': 'ford', 'model': 'mustang', 'year': 1964}"
      ]
     },
     "execution_count": 67,
     "metadata": {},
     "output_type": "execute_result"
    }
   ],
   "source": [
    "mydic={\"brand\":\"ford\",\n",
    "       \"model\":\"mustang\",\n",
    "       \"year\":1964}\n",
    "mydic"
   ]
  },
  {
   "cell_type": "code",
   "execution_count": 68,
   "id": "fb7394c6",
   "metadata": {},
   "outputs": [
    {
     "data": {
      "text/plain": [
       "'ford'"
      ]
     },
     "execution_count": 68,
     "metadata": {},
     "output_type": "execute_result"
    }
   ],
   "source": [
    "mydic[\"brand\"] #onw method"
   ]
  },
  {
   "cell_type": "code",
   "execution_count": 69,
   "id": "461bdd60",
   "metadata": {},
   "outputs": [
    {
     "data": {
      "text/plain": [
       "{'brand': 'ford', 'model': 'mustang', 'year': 1994}"
      ]
     },
     "execution_count": 69,
     "metadata": {},
     "output_type": "execute_result"
    }
   ],
   "source": [
    "mydic={\"brand\":\"ford\",                   \n",
    "       \"model\":\"mustang\",\n",
    "       \"year\":1964,\n",
    "      \"year\":1994}      #duplicates r not allow\n",
    "mydic"
   ]
  },
  {
   "cell_type": "code",
   "execution_count": 70,
   "id": "9db913b2",
   "metadata": {},
   "outputs": [
    {
     "data": {
      "text/plain": [
       "{'brand': 'ford', 'model': 'mustang', 'year': 1964, 'year1': 1994}"
      ]
     },
     "execution_count": 70,
     "metadata": {},
     "output_type": "execute_result"
    }
   ],
   "source": [
    "mydic={\"brand\":\"ford\",                   \n",
    "       \"model\":\"mustang\",\n",
    "       \"year\":1964,\n",
    "      \"year1\":1994}      #duplicates r not allow      changed key value with year1\n",
    "mydic"
   ]
  },
  {
   "cell_type": "code",
   "execution_count": 71,
   "id": "5cc0b574",
   "metadata": {},
   "outputs": [
    {
     "data": {
      "text/plain": [
       "'ford'"
      ]
     },
     "execution_count": 71,
     "metadata": {},
     "output_type": "execute_result"
    }
   ],
   "source": [
    "x=mydic.get(\"brand\")    #second method\n",
    "x"
   ]
  },
  {
   "cell_type": "code",
   "execution_count": 72,
   "id": "ee639188",
   "metadata": {},
   "outputs": [
    {
     "data": {
      "text/plain": [
       "dict_keys(['brand', 'model', 'year', 'year1'])"
      ]
     },
     "execution_count": 72,
     "metadata": {},
     "output_type": "execute_result"
    }
   ],
   "source": [
    "mydic.keys()"
   ]
  },
  {
   "cell_type": "code",
   "execution_count": 73,
   "id": "0ba48cba",
   "metadata": {},
   "outputs": [
    {
     "data": {
      "text/plain": [
       "dict_values(['ford', 'mustang', 1964, 1994])"
      ]
     },
     "execution_count": 73,
     "metadata": {},
     "output_type": "execute_result"
    }
   ],
   "source": [
    "mydic.values()"
   ]
  },
  {
   "cell_type": "code",
   "execution_count": 74,
   "id": "85f8b6f2",
   "metadata": {},
   "outputs": [
    {
     "data": {
      "text/plain": [
       "dict_items([('brand', 'ford'), ('model', 'mustang'), ('year', 1964), ('year1', 1994)])"
      ]
     },
     "execution_count": 74,
     "metadata": {},
     "output_type": "execute_result"
    }
   ],
   "source": [
    "mydic.items()"
   ]
  },
  {
   "cell_type": "code",
   "execution_count": 75,
   "id": "b8c2f823",
   "metadata": {},
   "outputs": [
    {
     "data": {
      "text/plain": [
       "{'brand': 'ford', 'model': 'mustang', 'year': 2020, 'year1': 1994}"
      ]
     },
     "execution_count": 75,
     "metadata": {},
     "output_type": "execute_result"
    }
   ],
   "source": [
    "mydic[\"year\"]=2020      #one method\n",
    "mydic"
   ]
  },
  {
   "cell_type": "code",
   "execution_count": 76,
   "id": "710d2f3c",
   "metadata": {},
   "outputs": [
    {
     "data": {
      "text/plain": [
       "{'brand': 'ford', 'model': 'mustang', 'year': 1975, 'year1': 1994}"
      ]
     },
     "execution_count": 76,
     "metadata": {},
     "output_type": "execute_result"
    }
   ],
   "source": [
    "mydic.update({\"year\":1975})    # second method \n",
    "mydic"
   ]
  },
  {
   "cell_type": "code",
   "execution_count": 77,
   "id": "513f8784",
   "metadata": {},
   "outputs": [
    {
     "data": {
      "text/plain": [
       "{'brand': 'ford', 'year': 1975, 'year1': 1994}"
      ]
     },
     "execution_count": 77,
     "metadata": {},
     "output_type": "execute_result"
    }
   ],
   "source": [
    "mydic.pop(\"model\")\n",
    "mydic"
   ]
  },
  {
   "cell_type": "code",
   "execution_count": 78,
   "id": "cce3ce31",
   "metadata": {},
   "outputs": [
    {
     "data": {
      "text/plain": [
       "{}"
      ]
     },
     "execution_count": 78,
     "metadata": {},
     "output_type": "execute_result"
    }
   ],
   "source": [
    "mydic.clear()\n",
    "mydic"
   ]
  },
  {
   "cell_type": "code",
   "execution_count": 79,
   "id": "0909ae86",
   "metadata": {},
   "outputs": [],
   "source": [
    "del mydic"
   ]
  },
  {
   "cell_type": "code",
   "execution_count": 80,
   "id": "a2cca108",
   "metadata": {},
   "outputs": [
    {
     "ename": "NameError",
     "evalue": "name 'mydic' is not defined",
     "output_type": "error",
     "traceback": [
      "\u001b[1;31m---------------------------------------------------------------------------\u001b[0m",
      "\u001b[1;31mNameError\u001b[0m                                 Traceback (most recent call last)",
      "Cell \u001b[1;32mIn[80], line 1\u001b[0m\n\u001b[1;32m----> 1\u001b[0m mydic\n",
      "\u001b[1;31mNameError\u001b[0m: name 'mydic' is not defined"
     ]
    }
   ],
   "source": [
    "mydic"
   ]
  },
  {
   "cell_type": "code",
   "execution_count": 81,
   "id": "83f502ac",
   "metadata": {},
   "outputs": [],
   "source": [
    "mydic={\"brand\":\"ford\",                   \n",
    "       \"model\":\"mustang\",\n",
    "       \"year\":1964,\n",
    "      \"year1\":1994}\n"
   ]
  },
  {
   "cell_type": "code",
   "execution_count": 82,
   "id": "07b1a2bc",
   "metadata": {},
   "outputs": [
    {
     "name": "stdout",
     "output_type": "stream",
     "text": [
      "ford\n",
      "mustang\n",
      "1964\n",
      "1994\n"
     ]
    }
   ],
   "source": [
    "for i in  mydic.values():\n",
    "    print(i)"
   ]
  },
  {
   "cell_type": "code",
   "execution_count": null,
   "id": "8c4fce6e",
   "metadata": {},
   "outputs": [],
   "source": [
    "for i in  mydic.keys():\n",
    "    print(i)"
   ]
  },
  {
   "cell_type": "code",
   "execution_count": null,
   "id": "623c82ed",
   "metadata": {},
   "outputs": [],
   "source": [
    "for i in  mydic.items():\n",
    "    print(i)"
   ]
  },
  {
   "cell_type": "code",
   "execution_count": 83,
   "id": "9f84ce3b",
   "metadata": {},
   "outputs": [
    {
     "data": {
      "text/plain": [
       "{'brand': 'ford', 'model': 'mustang', 'year': 1964, 'year1': 1994}"
      ]
     },
     "execution_count": 83,
     "metadata": {},
     "output_type": "execute_result"
    }
   ],
   "source": [
    "thisdic=mydic.copy()\n",
    "thisdic"
   ]
  },
  {
   "cell_type": "code",
   "execution_count": 84,
   "id": "2df6caa1",
   "metadata": {},
   "outputs": [
    {
     "name": "stdout",
     "output_type": "stream",
     "text": [
      "2000558127168\n"
     ]
    }
   ],
   "source": [
    "print(id(mydic))    # to check memory lcation"
   ]
  },
  {
   "cell_type": "code",
   "execution_count": 85,
   "id": "dfa31b46",
   "metadata": {},
   "outputs": [
    {
     "name": "stdout",
     "output_type": "stream",
     "text": [
      "2000544823296\n"
     ]
    }
   ],
   "source": [
    "print(id(thisdic))"
   ]
  },
  {
   "cell_type": "code",
   "execution_count": null,
   "id": "1ebeb3b2",
   "metadata": {},
   "outputs": [],
   "source": [
    "myfamily={\n",
    "    \"child1\":{\n",
    "        \"name\":\"ram\",\n",
    "        \"year\":2020\n",
    "    }, \"child2\":{ \n",
    "        \"name\":\"shivani\",\n",
    "        \"year\":2021\n",
    "    },\"child3\":{  \n",
    "        \"name\":\"deep\", \n",
    "        \"year\":2022\n",
    "    }\n",
    "}\n",
    "myfamily"
   ]
  },
  {
   "cell_type": "code",
   "execution_count": null,
   "id": "768685c3",
   "metadata": {},
   "outputs": [],
   "source": [
    "child1={\n",
    "        \"name\":\"ram\",\n",
    "        \"year\":2020\n",
    "    }\n",
    "child2={ \n",
    "        \"name\":\"shivani\",\n",
    "        \"year\":2021\n",
    "    }\n",
    "child3={  \n",
    "        \"name\":\"deep\", \n",
    "        \"year\":2022\n",
    "    }\n",
    "myfamily={\"Child1\":child1,\"Child2\":child2,\"Child3\":child3}\n",
    "myfamily"
   ]
  },
  {
   "cell_type": "code",
   "execution_count": null,
   "id": "ba8e11be",
   "metadata": {},
   "outputs": [],
   "source": [
    "print(myfamily[\"Child1\"][\"year\"])"
   ]
  },
  {
   "cell_type": "code",
   "execution_count": null,
   "id": "d881a9d0",
   "metadata": {},
   "outputs": [],
   "source": []
  },
  {
   "cell_type": "code",
   "execution_count": null,
   "id": "ee6c699d",
   "metadata": {},
   "outputs": [],
   "source": [
    "\n"
   ]
  },
  {
   "cell_type": "code",
   "execution_count": null,
   "id": "868703ed",
   "metadata": {},
   "outputs": [],
   "source": []
  }
 ],
 "metadata": {
  "kernelspec": {
   "display_name": "Python 3 (ipykernel)",
   "language": "python",
   "name": "python3"
  },
  "language_info": {
   "codemirror_mode": {
    "name": "ipython",
    "version": 3
   },
   "file_extension": ".py",
   "mimetype": "text/x-python",
   "name": "python",
   "nbconvert_exporter": "python",
   "pygments_lexer": "ipython3",
   "version": "3.11.4"
  }
 },
 "nbformat": 4,
 "nbformat_minor": 5
}
