{
 "cells": [
  {
   "cell_type": "markdown",
   "id": "b134a43e",
   "metadata": {},
   "source": [
    "# Class & Object"
   ]
  },
  {
   "cell_type": "code",
   "execution_count": 1,
   "id": "85b20f87",
   "metadata": {},
   "outputs": [
    {
     "name": "stdout",
     "output_type": "stream",
     "text": [
      "Value of x: 10\n",
      "Sum of x and y: 30\n",
      "Value of y: 20\n"
     ]
    }
   ],
   "source": [
    "class sample:  #Whrere sample() is class S is object\n",
    "    x,y=10,20    # class variables    \n",
    "S=sample()        # creating object is called class instantiation\n",
    "print(\"Value of x:\",S.x) #class members can be accesed through instance or object of that class using\n",
    "print(\"Sum of x and y:\",S.x+S.y)# (.)operator. class members(class varible+Methods) methods(functions)\n",
    "print(\"Value of y:\",S.y)"
   ]
  },
  {
   "cell_type": "code",
   "execution_count": 27,
   "id": "4a239607",
   "metadata": {},
   "outputs": [
    {
     "name": "stdout",
     "output_type": "stream",
     "text": [
      "30\n"
     ]
    }
   ],
   "source": [
    "def sample:    #Method(Function)\n",
    "    x,y=10,20  \n",
    "    return(x+y)\n",
    "S=sample()\n",
    "print(S)"
   ]
  },
  {
   "cell_type": "code",
   "execution_count": 2,
   "id": "e641ef8b",
   "metadata": {},
   "outputs": [
    {
     "name": "stdout",
     "output_type": "stream",
     "text": [
      "Total Marks: 278\n",
      "Average Marks: 92.66666666666667\n",
      "88\n"
     ]
    }
   ],
   "source": [
    "class student:\n",
    "    English,Hindi,Science=88,90,100\n",
    "    def p(self):          #self is a keyword\n",
    "        total=self.English+self.Hindi+self.Science #total=student.English+student.Hindi+student.Science\n",
    "        avg=total/3\n",
    "        print(\"Total Marks:\",total)\n",
    "        print(\"Average Marks:\",avg)\n",
    "        return\n",
    "S=student()\n",
    "S.p()\n",
    "print(S.English)   #accessing element by object (S)"
   ]
  },
  {
   "cell_type": "code",
   "execution_count": 4,
   "id": "121fbc3f",
   "metadata": {},
   "outputs": [
    {
     "name": "stdout",
     "output_type": "stream",
     "text": [
      "Enter the marks of english:56\n",
      "Enter the marks of hindi:67\n",
      "Enter the marks of Science:78\n",
      "Total Marks: 201\n",
      "Average Marks: 67.0\n",
      "56\n"
     ]
    }
   ],
   "source": [
    "class student:\n",
    "    English=int(input(\"Enter the marks of english:\"))\n",
    "    Hindi=int(input(\"Enter the marks of hindi:\"))\n",
    "    Science=int(input(\"Enter the marks of Science:\"))\n",
    "    \n",
    "    def p(self):  #self is a keyword            self only work within class finction\n",
    "        total=self.English+self.Hindi+self.Science\n",
    "        avg=total/3\n",
    "        print(\"Total Marks:\",total)\n",
    "        print(\"Average Marks:\",avg)\n",
    "        return\n",
    "S=student()\n",
    "S.p()\n",
    "print(S.English)   #accessing element by object (S)"
   ]
  },
  {
   "cell_type": "markdown",
   "id": "04168f0f",
   "metadata": {},
   "source": [
    "## Constuctor"
   ]
  },
  {
   "cell_type": "code",
   "execution_count": 6,
   "id": "03cae1dd",
   "metadata": {},
   "outputs": [
    {
     "name": "stdout",
     "output_type": "stream",
     "text": [
      "10\n"
     ]
    }
   ],
   "source": [
    "class sample:\n",
    "    def __init__(self,num):           #__init__ is CONSTRUCTORS:\n",
    "\n",
    "        self.num=num\n",
    "        print(self.num)\n",
    "        \n",
    "        \n",
    "s=sample(10)  # s is onject sample is class\n",
    "\n",
    "        "
   ]
  },
  {
   "cell_type": "code",
   "execution_count": 29,
   "id": "23add5f2",
   "metadata": {},
   "outputs": [
    {
     "name": "stdout",
     "output_type": "stream",
     "text": [
      "employee salary is 20000 DOJ 2020\n"
     ]
    }
   ],
   "source": [
    "class emp:\n",
    "    def __init__(self,salary,year):\n",
    "        self.salary=salary\n",
    "        self.year=year\n",
    "        print(\"employee salary is\",self.salary,\"DOJ\",self.year)\n",
    "        \n",
    "        \n",
    "E=emp(20000,2020)        \n",
    "     \n",
    "        \n",
    "     "
   ]
  },
  {
   "cell_type": "code",
   "execution_count": 7,
   "id": "fc7aa0c2",
   "metadata": {},
   "outputs": [
    {
     "name": "stdout",
     "output_type": "stream",
     "text": [
      "Enter the salary:20000\n",
      "Enter the year:2002\n",
      "employee salary is 20000 DOJ 2002\n"
     ]
    }
   ],
   "source": [
    "class emp:\n",
    "    def __init__(self,salary,year):\n",
    "        self.salary=salary\n",
    "        self.year=year\n",
    "        print(\"employee salary is\",self.salary,\"DOJ\",self.year)\n",
    "        \n",
    "salary=int(input(\"Enter the salary:\"))\n",
    "year=int(input(\"Enter the year:\"))        \n",
    "E=emp(salary,year)        "
   ]
  },
  {
   "cell_type": "markdown",
   "id": "8d72f2cd",
   "metadata": {},
   "source": [
    "## Inheritance:  \n",
    "  1. Single Inheritance\n",
    "  2. Multilevel Inheritance\n",
    "  3.  Hierarchical Inheritance\n",
    "  4.  Multiple Inheritance\n",
    "  5. Hybrid \n",
    "\n"
   ]
  },
  {
   "cell_type": "code",
   "execution_count": 37,
   "id": "86d33d18",
   "metadata": {},
   "outputs": [
    {
     "name": "stdout",
     "output_type": "stream",
     "text": [
      "This function is in parent class.\n",
      "This function is in child class.\n"
     ]
    }
   ],
   "source": [
    "#Single Inheritance\n",
    "class Parent:\n",
    "    def func1(self):\n",
    "        print(\"This function is in parent class.\")\n",
    " \n",
    "                          # Derived class\n",
    "class Child(Parent):\n",
    "    def func2(self):\n",
    "        print(\"This function is in child class.\")\n",
    " \n",
    "                            \n",
    "object = Child()\n",
    "object.func1()\n",
    "object.func2()\n"
   ]
  },
  {
   "cell_type": "code",
   "execution_count": 22,
   "id": "3ec71a79",
   "metadata": {},
   "outputs": [
    {
     "name": "stdout",
     "output_type": "stream",
     "text": [
      "Father : RAM\n",
      "Mother : SITA\n"
     ]
    }
   ],
   "source": [
    "#Multiple Inheritance\n",
    "# Base class1\n",
    "class Mother:\n",
    "    mothername = \"\"\n",
    "    def mother(self):\n",
    "        print(self.mothername)\n",
    " \n",
    "# Base class2\n",
    "class Father:\n",
    "    fathername = \"\"\n",
    "    def father(self):\n",
    "        print(self.fathername)\n",
    " \n",
    "# Derived class(child class)\n",
    "class Son(Mother, Father):\n",
    "    def parents(self):\n",
    "        print(\"Father :\", self.fathername)\n",
    "        print(\"Mother :\", self.mothername)\n",
    " \n",
    "# Driver's code\n",
    "s1 = Son()\n",
    "s1.fathername = \"RAM\"\n",
    "s1.mothername = \"SITA\"\n",
    "s1.parents()\n"
   ]
  },
  {
   "cell_type": "code",
   "execution_count": 25,
   "id": "7055d0b3",
   "metadata": {},
   "outputs": [
    {
     "name": "stdout",
     "output_type": "stream",
     "text": [
      "Lal mani\n",
      "Grandfather name : Lal mani\n",
      "Father name : Rampal\n",
      "Son name : Prince\n"
     ]
    }
   ],
   "source": [
    "#Multilevel Inheritance :\n",
    "class Grandfather:\n",
    "    def __init__(self, grandfathername):  # Using constuctor\n",
    "        self.grandfathername = grandfathername\n",
    " \n",
    "# Intermediate class\n",
    "class Father(Grandfather):\n",
    "    def __init__(self, fathername, grandfathername):\n",
    "        self.fathername = fathername\n",
    "        # invoking constructor of Grandfather class\n",
    "        Grandfather.__init__(self, grandfathername)\n",
    " \n",
    "# Derived class \n",
    "class Son(Father):\n",
    "    def __init__(self, sonname, fathername, grandfathername):\n",
    "        self.sonname = sonname\n",
    "        # invoking constructor of Father class\n",
    "        Father.__init__(self, fathername, grandfathername)\n",
    "    def print_name(self):\n",
    "        print('Grandfather name :', self.grandfathername)\n",
    "        print(\"Father name :\", self.fathername)\n",
    "        print(\"Son name :\", self.sonname)\n",
    " \n",
    " \n",
    "#  Driver code\n",
    "s1 = Son('Prince', 'Rampal', 'Lal mani')\n",
    "print(s1.grandfathername)\n",
    "s1.print_name()\n"
   ]
  },
  {
   "cell_type": "code",
   "execution_count": 26,
   "id": "66149d3f",
   "metadata": {},
   "outputs": [
    {
     "name": "stdout",
     "output_type": "stream",
     "text": [
      "This function is in parent class.\n",
      "This function is in child 1.\n",
      "This function is in parent class.\n",
      "This function is in child 2.\n"
     ]
    }
   ],
   "source": [
    "#Hierarchical Inheritance: \n",
    "\n",
    "# Base class\n",
    "class Parent:\n",
    "    def func1(self):\n",
    "        print(\"This function is in parent class.\")\n",
    "# Derived class1\n",
    "class Child1(Parent):\n",
    "    def func2(self):\n",
    "        print(\"This function is in child 1.\")\n",
    "# Derivied class2\n",
    "class Child2(Parent):\n",
    "    def func3(self):\n",
    "        print(\"This function is in child 2.\")\n",
    "# Driver's code\n",
    "object1 = Child1()\n",
    "object2 = Child2()\n",
    "object1.func1()\n",
    "object1.func2()\n",
    "object2.func1()\n",
    "object2.func3()\n"
   ]
  },
  {
   "cell_type": "code",
   "execution_count": 27,
   "id": "4bcd8695",
   "metadata": {},
   "outputs": [
    {
     "name": "stdout",
     "output_type": "stream",
     "text": [
      "This function is in school.\n",
      "This function is in student 1. \n"
     ]
    }
   ],
   "source": [
    "#Hybrid Inheritance: \n",
    "\n",
    " \n",
    "class School:\n",
    "    def func1(self):\n",
    "        print(\"This function is in school.\")\n",
    " \n",
    "class Student1(School):\n",
    "    def func2(self):\n",
    "        print(\"This function is in student 1. \")\n",
    " \n",
    " \n",
    "class Student2(School):\n",
    "    def func3(self):\n",
    "        print(\"This function is in student 2.\")\n",
    " \n",
    "class Student3(Student1, School):\n",
    "    def func4(self):\n",
    "        print(\"This function is in student 3.\")\n",
    "# Driver's code\n",
    "object = Student3()\n",
    "object.func1()\n",
    "object.func2()"
   ]
  },
  {
   "cell_type": "markdown",
   "id": "9e4e82b1",
   "metadata": {},
   "source": [
    "## Polymorphism in Python\n",
    "\n"
   ]
  },
  {
   "cell_type": "code",
   "execution_count": 30,
   "id": "f740dfe1",
   "metadata": {},
   "outputs": [
    {
     "name": "stdout",
     "output_type": "stream",
     "text": [
      "New Delhi is the capital of India.\n",
      "Hindi is the most widely spoken language of India.\n",
      "India is a developing country.\n",
      "Washington, D.C. is the capital of USA.\n",
      "English is the primary language of USA.\n",
      "USA is a developed country.\n"
     ]
    }
   ],
   "source": [
    "class India():\n",
    "    def capital(self):\n",
    "        print(\"New Delhi is the capital of India.\")\n",
    " \n",
    "    def language(self):\n",
    "        print(\"Hindi is the most widely spoken language of India.\")\n",
    " \n",
    "    def type(self):\n",
    "        print(\"India is a developing country.\")\n",
    " \n",
    "class USA():\n",
    "    def capital(self):\n",
    "        print(\"Washington, D.C. is the capital of USA.\")\n",
    " \n",
    "    def language(self):\n",
    "        print(\"English is the primary language of USA.\")\n",
    " \n",
    "    def type(self):\n",
    "        print(\"USA is a developed country.\")\n",
    " \n",
    "obj_ind = India()\n",
    "obj_usa = USA()\n",
    "for country in (obj_ind, obj_usa):    # for both the class the capital,language and tyoe is same so we used for loop\n",
    "    country.capital()\n",
    "    country.language()\n",
    "    country.type()\n",
    "\n"
   ]
  },
  {
   "cell_type": "markdown",
   "id": "1d8eecaa",
   "metadata": {},
   "source": [
    "# Encapsulation in Python\n",
    "\n",
    "Encapsulation is one of the fundamental concepts in object-oriented programming (OOP). It describes the idea of wrapping data and the methods that work on data within one unit. This puts restrictions on accessing variables and methods directly and can prevent the accidental modification of data. To prevent accidental change, an object’s variable can only be changed by an object’s method. Those types of variables are known as private variables.\n"
   ]
  },
  {
   "cell_type": "code",
   "execution_count": 31,
   "id": "1ed3301b",
   "metadata": {},
   "outputs": [
    {
     "name": "stdout",
     "output_type": "stream",
     "text": [
      "Calling protected member of base class:  2\n",
      "Calling modified protected member outside class:  3\n",
      "Accessing protected member of obj1:  3\n",
      "Accessing protected member of obj2:  2\n"
     ]
    }
   ],
   "source": [
    "class Base:\n",
    "    def __init__(self):\n",
    "  \n",
    "        # Protected member\n",
    "        self._a = 2\n",
    "  \n",
    "# Creating a derived class\n",
    "class Derived(Base):\n",
    "    def __init__(self):\n",
    "  \n",
    "        # Calling constructor of\n",
    "        # Base class\n",
    "        Base.__init__(self)\n",
    "        print(\"Calling protected member of base class: \", \n",
    "              self._a)\n",
    "  \n",
    "        # Modify the protected variable:\n",
    "        self._a = 3\n",
    "        print(\"Calling modified protected member outside class: \",\n",
    "              self._a)\n",
    "  \n",
    "  \n",
    "obj1 = Derived()\n",
    "  \n",
    "obj2 = Base()\n",
    "  \n",
    "# Calling protected member\n",
    "# Can be accessed but should not be done due to convention\n",
    "print(\"Accessing protected member of obj1: \", obj1._a)\n",
    "  \n",
    "# Accessing the protected variable outside\n",
    "print(\"Accessing protected member of obj2: \", obj2._a)\n"
   ]
  },
  {
   "cell_type": "markdown",
   "id": "3a67b000",
   "metadata": {},
   "source": [
    "# Abstract Classes in Python\n",
    "\n",
    "\n",
    "\n",
    "An abstract class can be considered a blueprint for other classes. It allows you to create a set of methods that must be created within any child classes built from the abstract class. A class that contains one or more abstract methods is called an abstract class."
   ]
  },
  {
   "cell_type": "code",
   "execution_count": 32,
   "id": "af90cbc0",
   "metadata": {},
   "outputs": [
    {
     "name": "stdout",
     "output_type": "stream",
     "text": [
      "I can walk and run\n",
      "I can crawl\n",
      "I can bark\n",
      "I can roar\n"
     ]
    }
   ],
   "source": [
    "# Python program showing\n",
    "# abstract base class work\n",
    "from abc import ABC, abstractmethod\n",
    " \n",
    " \n",
    "class Animal(ABC):\n",
    " \n",
    "    def move(self):\n",
    "        pass\n",
    " \n",
    "class Human(Animal):\n",
    " \n",
    "    def move(self):\n",
    "        print(\"I can walk and run\")\n",
    " \n",
    "class Snake(Animal):\n",
    " \n",
    "    def move(self):\n",
    "        print(\"I can crawl\")\n",
    " \n",
    "class Dog(Animal):\n",
    " \n",
    "    def move(self):\n",
    "        print(\"I can bark\")\n",
    " \n",
    "class Lion(Animal):\n",
    " \n",
    "    def move(self):\n",
    "        print(\"I can roar\")\n",
    " \n",
    "# Driver code\n",
    "R = Human()\n",
    "R.move()\n",
    " \n",
    "K = Snake()\n",
    "K.move()\n",
    " \n",
    "R = Dog()\n",
    "R.move()\n",
    " \n",
    "K = Lion()\n",
    "K.move()\n",
    "\n",
    "\n"
   ]
  },
  {
   "cell_type": "code",
   "execution_count": null,
   "id": "eadc724e",
   "metadata": {},
   "outputs": [],
   "source": []
  }
 ],
 "metadata": {
  "kernelspec": {
   "display_name": "Python 3 (ipykernel)",
   "language": "python",
   "name": "python3"
  },
  "language_info": {
   "codemirror_mode": {
    "name": "ipython",
    "version": 3
   },
   "file_extension": ".py",
   "mimetype": "text/x-python",
   "name": "python",
   "nbconvert_exporter": "python",
   "pygments_lexer": "ipython3",
   "version": "3.11.4"
  }
 },
 "nbformat": 4,
 "nbformat_minor": 5
}
