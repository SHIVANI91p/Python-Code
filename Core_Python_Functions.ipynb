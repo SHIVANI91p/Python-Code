{
 "cells": [
  {
   "cell_type": "code",
   "execution_count": null,
   "id": "cb5571b8",
   "metadata": {},
   "outputs": [],
   "source": [
    "def add():\n",
    "    print(7+8)\n",
    "add()    \n",
    "    \n",
    "    "
   ]
  },
  {
   "cell_type": "code",
   "execution_count": null,
   "id": "13256e20",
   "metadata": {},
   "outputs": [],
   "source": [
    "def add():#defining fuction\n",
    "    a=int(input(\"Enter 1st number:\"))\n",
    "    b=int(input(\"Enter 2nd number:\"))\n",
    "    print(a+b)\n",
    "add()  #calling function  \n",
    "    #without argument\n",
    "    "
   ]
  },
  {
   "cell_type": "code",
   "execution_count": null,
   "id": "1dedbed4",
   "metadata": {},
   "outputs": [],
   "source": [
    "def add(a,b):#defining fuction\n",
    "      print(a+b)\n",
    "a=int(input(\"Enter 1st number:\"))\n",
    "b=int(input(\"Enter 2nd number:\"))\n",
    "    \n",
    "add(a,b)  #calling function  #with argument"
   ]
  },
  {
   "cell_type": "code",
   "execution_count": null,
   "id": "e04c9553",
   "metadata": {},
   "outputs": [],
   "source": [
    "def add(c,d):#defining fuction   # c ,d arguments\n",
    "      print(c+d)\n",
    "a=int(input(\"Enter 1st number:\"))\n",
    "b=int(input(\"Enter 2nd number:\"))\n",
    "    \n",
    "add(a,b)  #calling function  #with argument"
   ]
  },
  {
   "cell_type": "code",
   "execution_count": null,
   "id": "7c488833",
   "metadata": {},
   "outputs": [],
   "source": [
    "def mult(c,d):#defining fuction   # c ,d arguments\n",
    "      print(c*d)\n",
    "a=int(input(\"Enter 1st number:\"))\n",
    "b=int(input(\"Enter 2nd number:\"))\n",
    "    \n",
    "mult(a,b)  "
   ]
  },
  {
   "cell_type": "code",
   "execution_count": null,
   "id": "16a77d16",
   "metadata": {},
   "outputs": [],
   "source": [
    "def add(k,l):\n",
    "    print(k+l)\n",
    "add(67,89)    "
   ]
  },
  {
   "cell_type": "code",
   "execution_count": null,
   "id": "b437c9ef",
   "metadata": {},
   "outputs": [],
   "source": [
    "#Lets consider a scenario,you are required to find out country name based on its currancy\n",
    "\n",
    "def guessthecountry(cur):\n",
    "    if cur==\"GBP\":\n",
    "        print(\"counrty is UK\")\n",
    "    elif cur==\"INR\":\n",
    "        print(\"country is India\")\n",
    "    elif cur==\"USD\":\n",
    "        print(\"country is USA\")\n",
    "    elif cur==\"TAKA\":\n",
    "        print(\"country is Bangladesh\")\n",
    "curr=input(\"Enter currancy:\")\n",
    "guessthecountry(curr)"
   ]
  },
  {
   "cell_type": "code",
   "execution_count": null,
   "id": "ce96416d",
   "metadata": {},
   "outputs": [],
   "source": [
    "# Simple Interest\n",
    "def si(p,r,t):\n",
    "    ans=(p*r*t)/100\n",
    "    return(ans)  #print(ans)\n",
    "\n",
    "a=1000\n",
    "b=2\n",
    "c=2\n",
    "si(a,b,c)\n"
   ]
  },
  {
   "cell_type": "code",
   "execution_count": null,
   "id": "97ed1be2",
   "metadata": {},
   "outputs": [],
   "source": [
    "def si():\n",
    "    p=1000\n",
    "    r=2\n",
    "    t=2\n",
    "    ans=(p*r*t)/100\n",
    "    return(ans)  #print(ans)\n",
    "\n",
    "si()\n"
   ]
  },
  {
   "cell_type": "code",
   "execution_count": null,
   "id": "05831e36",
   "metadata": {},
   "outputs": [],
   "source": [
    "def si():\n",
    "    p=int(input(\"Enter the value of p:\"))\n",
    "    r=int(input(\"Enter the value of r:\"))\n",
    "    t=int(input(\"Enter the value of t:\"))\n",
    "    ans=(p*r*t)/100\n",
    "    return(ans)  #print(ans)\n",
    "\n",
    "si()\n"
   ]
  },
  {
   "cell_type": "markdown",
   "id": "85164ca6",
   "metadata": {},
   "source": [
    "# Lambda Function"
   ]
  },
  {
   "cell_type": "code",
   "execution_count": null,
   "id": "8c1e2529",
   "metadata": {},
   "outputs": [],
   "source": [
    "x=lambda a,b:a+b\n",
    "print(x(12,13))"
   ]
  },
  {
   "cell_type": "code",
   "execution_count": null,
   "id": "2c74a9cb",
   "metadata": {},
   "outputs": [],
   "source": [
    "y=lambda a,b,c: (a*b*c)/100\n",
    "print(y(1200,2,2))"
   ]
  },
  {
   "cell_type": "code",
   "execution_count": null,
   "id": "c80ceb0d",
   "metadata": {},
   "outputs": [],
   "source": [
    "a=99  # global variavle\n",
    "def fun():\n",
    "    a=88      # local variable\n",
    "    print(a)\n",
    "    \n",
    "fun()\n",
    "print(a)"
   ]
  },
  {
   "cell_type": "code",
   "execution_count": null,
   "id": "96cf284d",
   "metadata": {},
   "outputs": [],
   "source": [
    "a=99 \n",
    "def fun():\n",
    "    global a      # here wehave givel the keyword global to local variable so it had become global\n",
    "    a=88     \n",
    "    print(a)\n",
    "    \n",
    "fun()\n",
    "print(a)"
   ]
  },
  {
   "cell_type": "markdown",
   "id": "3b16563c",
   "metadata": {},
   "source": [
    "# Map Function"
   ]
  },
  {
   "cell_type": "code",
   "execution_count": null,
   "id": "fca015c7",
   "metadata": {},
   "outputs": [],
   "source": [
    "def calculatesquare(n):\n",
    "    return n*n\n",
    "numbers=(1,2,3,4)\n",
    "result=map(calculatesquare,numbers)\n",
    "print(result)\n",
    "#coverting map obeject to list\n",
    "numbersquare=list(result)\n",
    "print(numbersquare)"
   ]
  },
  {
   "cell_type": "markdown",
   "id": "7a8b4c33",
   "metadata": {},
   "source": [
    "# Reduce Function"
   ]
  },
  {
   "cell_type": "code",
   "execution_count": null,
   "id": "55a91c93",
   "metadata": {},
   "outputs": [],
   "source": [
    "from functools import reduce\n",
    "num=(1,6,88,99,3)\n",
    "sum1=reduce(lambda a,b:a+b,num)\n",
    "sum1"
   ]
  },
  {
   "cell_type": "code",
   "execution_count": null,
   "id": "92ffd33d",
   "metadata": {},
   "outputs": [],
   "source": [
    "i = 1\n",
    "while True:\n",
    "    if i%3 == 0:\n",
    "        break\n",
    "    print(i)\n"
   ]
  },
  {
   "cell_type": "code",
   "execution_count": null,
   "id": "637c4cd6",
   "metadata": {},
   "outputs": [],
   "source": []
  },
  {
   "cell_type": "code",
   "execution_count": null,
   "id": "8b22878a",
   "metadata": {},
   "outputs": [],
   "source": []
  },
  {
   "cell_type": "code",
   "execution_count": null,
   "id": "e7aca3b8",
   "metadata": {},
   "outputs": [],
   "source": []
  },
  {
   "cell_type": "code",
   "execution_count": null,
   "id": "1faa169f",
   "metadata": {},
   "outputs": [],
   "source": []
  },
  {
   "cell_type": "code",
   "execution_count": null,
   "id": "333f5562",
   "metadata": {},
   "outputs": [],
   "source": []
  }
 ],
 "metadata": {
  "kernelspec": {
   "display_name": "Python 3 (ipykernel)",
   "language": "python",
   "name": "python3"
  },
  "language_info": {
   "codemirror_mode": {
    "name": "ipython",
    "version": 3
   },
   "file_extension": ".py",
   "mimetype": "text/x-python",
   "name": "python",
   "nbconvert_exporter": "python",
   "pygments_lexer": "ipython3",
   "version": "3.11.4"
  }
 },
 "nbformat": 4,
 "nbformat_minor": 5
}
