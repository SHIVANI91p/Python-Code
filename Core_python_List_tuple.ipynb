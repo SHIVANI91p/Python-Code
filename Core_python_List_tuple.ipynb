{
 "cells": [
  {
   "cell_type": "markdown",
   "id": "59033bff",
   "metadata": {},
   "source": [
    "# List"
   ]
  },
  {
   "cell_type": "code",
   "execution_count": null,
   "id": "78865955",
   "metadata": {},
   "outputs": [],
   "source": [
    "a=[\"apple\",\"banana\",\"kiwi\",1,2,3,True,3.9]\n",
    "print(\"a[0:]\",a[0])"
   ]
  },
  {
   "cell_type": "code",
   "execution_count": null,
   "id": "c79ac45c",
   "metadata": {},
   "outputs": [],
   "source": [
    "a[1]"
   ]
  },
  {
   "cell_type": "code",
   "execution_count": null,
   "id": "31ab9b9b",
   "metadata": {},
   "outputs": [],
   "source": [
    "a[-4]"
   ]
  },
  {
   "cell_type": "code",
   "execution_count": null,
   "id": "5eeb6e7f",
   "metadata": {},
   "outputs": [],
   "source": [
    "a=[]\n",
    "print(type(a))"
   ]
  },
  {
   "cell_type": "code",
   "execution_count": null,
   "id": "5f6ea57d",
   "metadata": {},
   "outputs": [],
   "source": [
    "a=[\"apple\",\"banana\",\"kiwi\",1,2,3,True,3.9]\n",
    "for t in a:\n",
    "    print(t,end=\" \")"
   ]
  },
  {
   "cell_type": "code",
   "execution_count": null,
   "id": "205419ad",
   "metadata": {},
   "outputs": [],
   "source": [
    "i=0\n",
    "while i<8:\n",
    "    print(a[i])\n",
    "    i=i+1"
   ]
  },
  {
   "cell_type": "code",
   "execution_count": null,
   "id": "fb03c3ba",
   "metadata": {},
   "outputs": [],
   "source": [
    "Marks=[10,23,41,75]\n",
    "print(Marks[0])\n",
    "print(Marks[-1])"
   ]
  },
  {
   "cell_type": "code",
   "execution_count": null,
   "id": "d286169c",
   "metadata": {},
   "outputs": [],
   "source": [
    "Marks=[10,23,41,75]\n",
    "i=0\n",
    "while i<4:\n",
    "    print(Marks[i])\n",
    "    i=i+1"
   ]
  },
  {
   "cell_type": "code",
   "execution_count": null,
   "id": "9a5b271e",
   "metadata": {},
   "outputs": [],
   "source": [
    "Marks=[10,23,41,75]\n",
    "i=-1\n",
    "while i>=-4:\n",
    "    print(Marks[i])\n",
    "    i=i+-1"
   ]
  },
  {
   "cell_type": "code",
   "execution_count": null,
   "id": "16e7ac4a",
   "metadata": {},
   "outputs": [],
   "source": [
    "a=[\"apple\",\"banana\",\"kiwi\",1,2,3,True,3.9]  #slicing\n",
    "print(a[0:5])"
   ]
  },
  {
   "cell_type": "code",
   "execution_count": null,
   "id": "054925d3",
   "metadata": {},
   "outputs": [],
   "source": [
    "a[3:6]"
   ]
  },
  {
   "cell_type": "code",
   "execution_count": null,
   "id": "8a546a01",
   "metadata": {},
   "outputs": [],
   "source": [
    "a[2:]"
   ]
  },
  {
   "cell_type": "code",
   "execution_count": null,
   "id": "d0861624",
   "metadata": {},
   "outputs": [],
   "source": [
    "a[:3]"
   ]
  },
  {
   "cell_type": "code",
   "execution_count": null,
   "id": "8604ee89",
   "metadata": {},
   "outputs": [],
   "source": [
    "a[1:-1]"
   ]
  },
  {
   "cell_type": "code",
   "execution_count": null,
   "id": "b8ec36bf",
   "metadata": {},
   "outputs": [],
   "source": [
    "a=[\"apple\",\"banana\",\"kiwi\",1,2,3,True,3.9]\n",
    "b=[\"red\",\"pink\"]\n",
    "a+b"
   ]
  },
  {
   "cell_type": "code",
   "execution_count": null,
   "id": "cb1f18c1",
   "metadata": {},
   "outputs": [],
   "source": [
    "len(a+b)"
   ]
  },
  {
   "cell_type": "code",
   "execution_count": null,
   "id": "a01aa6d0",
   "metadata": {},
   "outputs": [],
   "source": [
    "print(a*2)"
   ]
  },
  {
   "cell_type": "code",
   "execution_count": null,
   "id": "2b9ed1c3",
   "metadata": {},
   "outputs": [],
   "source": [
    "a=[\"apple\",\"banana\",\"kiwi\",1,2,3,True,3.9]\n",
    "a[1]=\"orange\"\n",
    "print(a)"
   ]
  },
  {
   "cell_type": "code",
   "execution_count": null,
   "id": "4437d083",
   "metadata": {},
   "outputs": [],
   "source": [
    "a[1:3]"
   ]
  },
  {
   "cell_type": "code",
   "execution_count": null,
   "id": "59595986",
   "metadata": {},
   "outputs": [],
   "source": [
    "a[1:3]=[\"pineapple\",\"chery\"]\n",
    "print(a)"
   ]
  },
  {
   "cell_type": "code",
   "execution_count": null,
   "id": "8406176a",
   "metadata": {},
   "outputs": [],
   "source": [
    "a[3:5]=['v','z']\n",
    "a"
   ]
  },
  {
   "cell_type": "code",
   "execution_count": null,
   "id": "a3df7cbf",
   "metadata": {},
   "outputs": [],
   "source": [
    "b=a+[24,25]    #concatination\n",
    "b"
   ]
  },
  {
   "cell_type": "code",
   "execution_count": null,
   "id": "0dd76381",
   "metadata": {},
   "outputs": [],
   "source": [
    "b[:]=[]\n",
    "b"
   ]
  },
  {
   "cell_type": "code",
   "execution_count": null,
   "id": "f5447fc8",
   "metadata": {},
   "outputs": [],
   "source": [
    "a=[\"apple\",\"banana\",\"kiwi\",1,2,3,True,3.9]\n",
    "a.append(1)\n",
    "print(a,end=\" \")"
   ]
  },
  {
   "cell_type": "code",
   "execution_count": null,
   "id": "028b43db",
   "metadata": {},
   "outputs": [],
   "source": [
    "a.append([2,5,8])\n",
    "a"
   ]
  },
  {
   "cell_type": "code",
   "execution_count": null,
   "id": "0e835a64",
   "metadata": {},
   "outputs": [],
   "source": [
    "a[9][1]"
   ]
  },
  {
   "cell_type": "code",
   "execution_count": null,
   "id": "d0f16416",
   "metadata": {},
   "outputs": [],
   "source": [
    "a[-1][0]"
   ]
  },
  {
   "cell_type": "code",
   "execution_count": null,
   "id": "893e64ad",
   "metadata": {},
   "outputs": [],
   "source": [
    " a.extend([1,10])\n",
    "print(a,end=\" \")"
   ]
  },
  {
   "cell_type": "code",
   "execution_count": null,
   "id": "719f63a6",
   "metadata": {},
   "outputs": [],
   "source": [
    "a.insert(3,\"new_inserted_item\")\n",
    "print(a,end=\" \")"
   ]
  },
  {
   "cell_type": "markdown",
   "id": "52c7d34d",
   "metadata": {},
   "source": []
  },
  {
   "cell_type": "code",
   "execution_count": null,
   "id": "0fae9708",
   "metadata": {},
   "outputs": [],
   "source": [
    "a.remove(1) \n",
    "a"
   ]
  },
  {
   "cell_type": "code",
   "execution_count": null,
   "id": "75336aa8",
   "metadata": {},
   "outputs": [],
   "source": [
    "\n",
    "a.count(1)"
   ]
  },
  {
   "cell_type": "code",
   "execution_count": null,
   "id": "6923b3ef",
   "metadata": {},
   "outputs": [],
   "source": [
    "a.index('banana')\n"
   ]
  },
  {
   "cell_type": "code",
   "execution_count": null,
   "id": "f06958f6",
   "metadata": {},
   "outputs": [],
   "source": [
    "a.reverse()\n",
    "a"
   ]
  },
  {
   "cell_type": "code",
   "execution_count": null,
   "id": "b0ad429d",
   "metadata": {},
   "outputs": [],
   "source": [
    "b=[8,7,5,9,3,2,5]\n",
    "b.sort()\n",
    "b"
   ]
  },
  {
   "cell_type": "code",
   "execution_count": null,
   "id": "0c41439c",
   "metadata": {},
   "outputs": [],
   "source": [
    "b.sort(reverse=True)  # for decending order\n",
    "b"
   ]
  },
  {
   "cell_type": "code",
   "execution_count": null,
   "id": "8d1f5a06",
   "metadata": {},
   "outputs": [],
   "source": [
    "b=[8,7,5,9,3,2,5]\n",
    "max(b)\n"
   ]
  },
  {
   "cell_type": "code",
   "execution_count": null,
   "id": "022f8fc8",
   "metadata": {},
   "outputs": [],
   "source": [
    "min(b)"
   ]
  },
  {
   "cell_type": "code",
   "execution_count": null,
   "id": "c19b9fd9",
   "metadata": {},
   "outputs": [],
   "source": [
    "len(b)"
   ]
  },
  {
   "cell_type": "code",
   "execution_count": null,
   "id": "d4f1de3e",
   "metadata": {},
   "outputs": [],
   "source": [
    "l=[1,9,5]\n",
    "sum(l)"
   ]
  },
  {
   "cell_type": "code",
   "execution_count": null,
   "id": "124a771c",
   "metadata": {},
   "outputs": [],
   "source": [
    "d=[2,22,222,14,25]\n",
    "d[:-1]"
   ]
  },
  {
   "cell_type": "code",
   "execution_count": null,
   "id": "fa93e835",
   "metadata": {},
   "outputs": [],
   "source": [
    "name=['amit','shivani','deep']\n",
    "name[-1][-1]"
   ]
  },
  {
   "cell_type": "code",
   "execution_count": null,
   "id": "75ce55a7",
   "metadata": {},
   "outputs": [],
   "source": [
    "names1=['Amir','Bear','Chariton','Daman']\n",
    "names2=names1\n",
    "names3=names1[:]\n",
    "names2[0]='Alice'\n",
    "names3[1]='Bob'\n",
    "sum=0\n",
    "for ls in(names1,names2,names3):\n",
    "    print(ls)\n",
    "    if ls[0]=='Alice':\n",
    "        sum+=1\n",
    "    if ls[1]=='Bob':\n",
    "        sum+=10\n",
    "    print(sum)"
   ]
  },
  {
   "cell_type": "markdown",
   "id": "8851ad01",
   "metadata": {},
   "source": [
    "### Homework"
   ]
  },
  {
   "cell_type": "code",
   "execution_count": 57,
   "id": "35b099ab",
   "metadata": {},
   "outputs": [
    {
     "name": "stdout",
     "output_type": "stream",
     "text": [
      "[4, 8, 12, 16, 20, 24, 28, 32, 36, 40]\n"
     ]
    }
   ],
   "source": [
    "#Write a python program that creates a list of numbers from 1 to 40 that are divisible by 4 and print the list.\n",
    "divisible_by_4 = []\n",
    "for num in range(1, 41):\n",
    "    if num % 4 == 0:\n",
    "        divisible_by_4.append(num)\n",
    "print(divisible_by_4)\n",
    "\n"
   ]
  },
  {
   "cell_type": "code",
   "execution_count": 66,
   "id": "802e23ca",
   "metadata": {},
   "outputs": [
    {
     "name": "stdout",
     "output_type": "stream",
     "text": [
      "Enter the elements for list1:abcd\n",
      "Enter the elements for list2:mncd\n",
      "Commom elements in both lists are:\n",
      "c \t\n",
      "d \t\n"
     ]
    }
   ],
   "source": [
    "#Write a python program to take input for two lists from the user and print the element which is common in both the lists\n",
    "list1=list(input(\"Enter the elements for list1:\"))\n",
    "list2=list(input(\"Enter the elements for list2:\"))\n",
    "print(\"Commom elements in both lists are:\")\n",
    "for i in range(len(list1)):\n",
    "    for j in range(len(list2)):\n",
    "        if (list1[i]==list2[j]):\n",
    "            print(list1[i],\"\\t\")\n",
    "        else:\n",
    "            pass"
   ]
  },
  {
   "cell_type": "markdown",
   "id": "5d61038f",
   "metadata": {},
   "source": [
    "# Tuple"
   ]
  },
  {
   "cell_type": "code",
   "execution_count": null,
   "id": "be2fd897",
   "metadata": {},
   "outputs": [],
   "source": [
    "tup=('apple','banana','chery','chery')\n",
    "tup"
   ]
  },
  {
   "cell_type": "code",
   "execution_count": null,
   "id": "9d018159",
   "metadata": {},
   "outputs": [],
   "source": [
    "print(type(tup))"
   ]
  },
  {
   "cell_type": "code",
   "execution_count": null,
   "id": "8ff6e824",
   "metadata": {},
   "outputs": [],
   "source": [
    "a='apple','banana','chery'\n",
    "print(type(a))"
   ]
  },
  {
   "cell_type": "code",
   "execution_count": null,
   "id": "21d52275",
   "metadata": {},
   "outputs": [],
   "source": [
    "print(tup[3])"
   ]
  },
  {
   "cell_type": "code",
   "execution_count": null,
   "id": "7d67d6c8",
   "metadata": {},
   "outputs": [],
   "source": [
    "print(tup[1])"
   ]
  },
  {
   "cell_type": "code",
   "execution_count": null,
   "id": "c780843d",
   "metadata": {},
   "outputs": [],
   "source": [
    "len(tup)"
   ]
  },
  {
   "cell_type": "code",
   "execution_count": null,
   "id": "e41d7f9c",
   "metadata": {},
   "outputs": [],
   "source": [
    "a=(\"apple\")\n",
    "print(type(a))"
   ]
  },
  {
   "cell_type": "code",
   "execution_count": null,
   "id": "ffee0fd6",
   "metadata": {},
   "outputs": [],
   "source": [
    "s=('apple',)\n",
    "print(type(s))"
   ]
  },
  {
   "cell_type": "code",
   "execution_count": null,
   "id": "b025d053",
   "metadata": {},
   "outputs": [],
   "source": [
    "t=(\"apple\",1,2,2.4,3+j,True)\n",
    "t[0]"
   ]
  },
  {
   "cell_type": "code",
   "execution_count": null,
   "id": "0945c9aa",
   "metadata": {},
   "outputs": [],
   "source": [
    "t[-1]"
   ]
  },
  {
   "cell_type": "code",
   "execution_count": null,
   "id": "92b6b5ab",
   "metadata": {},
   "outputs": [],
   "source": [
    "t=(\"apple\",\"banana\",\"chery\",\"orange\",\"kiwi\",\"melon\",\"mango\")\n",
    "t"
   ]
  },
  {
   "cell_type": "code",
   "execution_count": null,
   "id": "f9bc3651",
   "metadata": {},
   "outputs": [],
   "source": [
    "t[2:5]"
   ]
  },
  {
   "cell_type": "code",
   "execution_count": null,
   "id": "d7227910",
   "metadata": {},
   "outputs": [],
   "source": [
    "t[:4]"
   ]
  },
  {
   "cell_type": "code",
   "execution_count": null,
   "id": "3aa6d533",
   "metadata": {},
   "outputs": [],
   "source": [
    "t[2:]"
   ]
  },
  {
   "cell_type": "code",
   "execution_count": null,
   "id": "80368806",
   "metadata": {},
   "outputs": [],
   "source": [
    "t[-4:-1]      #-4 in included and -1 is excluded"
   ]
  },
  {
   "cell_type": "code",
   "execution_count": 1,
   "id": "26a2afff",
   "metadata": {},
   "outputs": [
    {
     "name": "stdout",
     "output_type": "stream",
     "text": [
      "yes,'apple'is present in the tupel\n"
     ]
    }
   ],
   "source": [
    "t=(\"apple\",\"banana\",\"chery\",\"orange\",\"kiwi\",\"melon\",\"mango\")\n",
    "if \"apple\" in t:\n",
    "    print(\"yes,'apple'is present in the tupel\")\n"
   ]
  },
  {
   "cell_type": "code",
   "execution_count": 4,
   "id": "12f5e976",
   "metadata": {},
   "outputs": [
    {
     "data": {
      "text/plain": [
       "('apple', 'banana', 'kiwi', 11, 13.7, True)"
      ]
     },
     "execution_count": 4,
     "metadata": {},
     "output_type": "execute_result"
    }
   ],
   "source": [
    "a=(\"apple\",\"banana\",\"nnn\",11,13.7,True)\n",
    "b=list(a)\n",
    "b[2]=\"kiwi\"\n",
    "a=tuple(b)\n",
    "a"
   ]
  },
  {
   "cell_type": "code",
   "execution_count": 5,
   "id": "7c6cdcbd",
   "metadata": {},
   "outputs": [
    {
     "data": {
      "text/plain": [
       "('kiwi',)"
      ]
     },
     "execution_count": 5,
     "metadata": {},
     "output_type": "execute_result"
    }
   ],
   "source": [
    "a=(\"apple\",)\n",
    "b=list(a)\n",
    "b[0]=\"kiwi\"\n",
    "a=tuple(b)\n",
    "a"
   ]
  },
  {
   "cell_type": "code",
   "execution_count": 6,
   "id": "1761164e",
   "metadata": {},
   "outputs": [
    {
     "data": {
      "text/plain": [
       "('apple', 'banana', 'nnn', 'kiwi', 11, 13.7, True)"
      ]
     },
     "execution_count": 6,
     "metadata": {},
     "output_type": "execute_result"
    }
   ],
   "source": [
    "a=(\"apple\",\"banana\",\"nnn\",11,13.7,True)\n",
    "b=list(a)\n",
    "b.insert(3,\"kiwi\")\n",
    "a=tuple(b)\n",
    "a"
   ]
  },
  {
   "cell_type": "code",
   "execution_count": 26,
   "id": "eb7a9009",
   "metadata": {},
   "outputs": [
    {
     "data": {
      "text/plain": [
       "('apple', 'banana', 'nnn', 11, 13.7, True, ('shivani', 6))"
      ]
     },
     "execution_count": 26,
     "metadata": {},
     "output_type": "execute_result"
    }
   ],
   "source": [
    "a=(\"apple\",\"banana\",\"nnn\",11,13.7,True)\n",
    "b=list(a)\n",
    "b.append((\"shivani\",6))\n",
    "a=tuple(b)\n",
    "a"
   ]
  },
  {
   "cell_type": "code",
   "execution_count": 27,
   "id": "55da1df9",
   "metadata": {},
   "outputs": [
    {
     "data": {
      "text/plain": [
       "'shivani'"
      ]
     },
     "execution_count": 27,
     "metadata": {},
     "output_type": "execute_result"
    }
   ],
   "source": [
    "a[-1][-2]"
   ]
  },
  {
   "cell_type": "code",
   "execution_count": 28,
   "id": "37ec04c7",
   "metadata": {},
   "outputs": [
    {
     "data": {
      "text/plain": [
       "7"
      ]
     },
     "execution_count": 28,
     "metadata": {},
     "output_type": "execute_result"
    }
   ],
   "source": [
    "len(a)"
   ]
  },
  {
   "cell_type": "code",
   "execution_count": 24,
   "id": "addd3853",
   "metadata": {},
   "outputs": [
    {
     "data": {
      "text/plain": [
       "('apple', 'banana', 'nnn', 11, 13.7, True, 30, 8)"
      ]
     },
     "execution_count": 24,
     "metadata": {},
     "output_type": "execute_result"
    }
   ],
   "source": [
    "a=(\"apple\",\"banana\",\"nnn\",11,13.7,True)\n",
    "b=list(a)\n",
    "b.extend([30,8])\n",
    "a=tuple(b)\n",
    "a"
   ]
  },
  {
   "cell_type": "code",
   "execution_count": 25,
   "id": "80a22ab5",
   "metadata": {},
   "outputs": [
    {
     "data": {
      "text/plain": [
       "8"
      ]
     },
     "execution_count": 25,
     "metadata": {},
     "output_type": "execute_result"
    }
   ],
   "source": [
    "len(a)"
   ]
  },
  {
   "cell_type": "code",
   "execution_count": 29,
   "id": "65db7df7",
   "metadata": {},
   "outputs": [
    {
     "data": {
      "text/plain": [
       "('apple', 'banana', 'nnn', 11, 13.7, True, 'shivani', 8, 6)"
      ]
     },
     "execution_count": 29,
     "metadata": {},
     "output_type": "execute_result"
    }
   ],
   "source": [
    "x=(\"apple\",\"banana\",\"nnn\",11,13.7,True)\n",
    "y=(\"shivani\",8,6)\n",
    "x+=y             #concatination\n",
    "x "
   ]
  },
  {
   "cell_type": "code",
   "execution_count": 40,
   "id": "29b7cd0f",
   "metadata": {},
   "outputs": [
    {
     "name": "stdout",
     "output_type": "stream",
     "text": [
      "('apple', 'banana', 'nnn', 11, 13.7, True, 'apple', 'banana', 'nnn', 11, 13.7, True) "
     ]
    }
   ],
   "source": [
    "x=(\"apple\",\"banana\",\"nnn\",11,13.7,True)\n",
    "y=x*2\n",
    "print(y,end=\" \")"
   ]
  },
  {
   "cell_type": "code",
   "execution_count": 32,
   "id": "b274a16d",
   "metadata": {},
   "outputs": [
    {
     "name": "stdout",
     "output_type": "stream",
     "text": [
      "bbb aaa\n"
     ]
    }
   ],
   "source": [
    "x=(\"aaa\",\"bbb\",\"ccc\")\n",
    "a1,a2,a3=x           #Tuple unpacking\n",
    "print(a2,a1)"
   ]
  },
  {
   "cell_type": "code",
   "execution_count": 36,
   "id": "b43d75cf",
   "metadata": {},
   "outputs": [
    {
     "name": "stdout",
     "output_type": "stream",
     "text": [
      "apple\n",
      "banana\n",
      "cherry\n"
     ]
    }
   ],
   "source": [
    "t=(\"apple\",\"banana\",\"cherry\")\n",
    "for i in t:\n",
    "    print(i)"
   ]
  },
  {
   "cell_type": "code",
   "execution_count": 34,
   "id": "dcf3fbd6",
   "metadata": {},
   "outputs": [
    {
     "name": "stdout",
     "output_type": "stream",
     "text": [
      "apple\n",
      "banana\n",
      "cherry\n"
     ]
    }
   ],
   "source": [
    "t=(\"apple\",\"banana\",\"cherry\")\n",
    "for i in range(len(t)):\n",
    "    print(t[i])"
   ]
  },
  {
   "cell_type": "code",
   "execution_count": 41,
   "id": "d8b29e52",
   "metadata": {},
   "outputs": [
    {
     "data": {
      "text/plain": [
       "5"
      ]
     },
     "execution_count": 41,
     "metadata": {},
     "output_type": "execute_result"
    }
   ],
   "source": [
    "h=(1,2,3,4,5,1,1,1,1)\n",
    "h.count(1)"
   ]
  },
  {
   "cell_type": "code",
   "execution_count": 42,
   "id": "8fc2813f",
   "metadata": {},
   "outputs": [
    {
     "data": {
      "text/plain": [
       "4"
      ]
     },
     "execution_count": 42,
     "metadata": {},
     "output_type": "execute_result"
    }
   ],
   "source": [
    "h.index(5)"
   ]
  },
  {
   "cell_type": "code",
   "execution_count": 43,
   "id": "8feecb68",
   "metadata": {},
   "outputs": [
    {
     "data": {
      "text/plain": [
       "5"
      ]
     },
     "execution_count": 43,
     "metadata": {},
     "output_type": "execute_result"
    }
   ],
   "source": [
    "max(h)"
   ]
  },
  {
   "cell_type": "code",
   "execution_count": 44,
   "id": "17b5046d",
   "metadata": {},
   "outputs": [
    {
     "data": {
      "text/plain": [
       "1"
      ]
     },
     "execution_count": 44,
     "metadata": {},
     "output_type": "execute_result"
    }
   ],
   "source": [
    "min(h)"
   ]
  },
  {
   "cell_type": "markdown",
   "id": "23015d93",
   "metadata": {},
   "source": [
    "### #Homewoek"
   ]
  },
  {
   "cell_type": "code",
   "execution_count": 49,
   "id": "b608bf66",
   "metadata": {},
   "outputs": [
    {
     "name": "stdout",
     "output_type": "stream",
     "text": [
      "the original tuple is (1, 2, 3, 4, 5)\n",
      "the reversed tuple is (5, 4, 3, 2, 1)\n"
     ]
    }
   ],
   "source": [
    "#Exercise 1: Reverse the tuple\n",
    " \n",
    "\n",
    "original_tuple = (1, 2, 3, 4, 5)\n",
    "print(\"the original tuple is\",original_tuple)\n",
    "\n",
    "# Convert the tuple to a list, reverse it, and convert it back to a tuple\n",
    "reversed_tuple = tuple(reversed(list(original_tuple)))\n",
    "\n",
    "# Print the reversed tuple\n",
    "print(\"the reversed tuple is\",reversed_tuple)"
   ]
  },
  {
   "cell_type": "code",
   "execution_count": 50,
   "id": "72d47c43",
   "metadata": {},
   "outputs": [
    {
     "name": "stdout",
     "output_type": "stream",
     "text": [
      "Swapped tuple1: (4, 5, 6)\n",
      "Swapped tuple2: (1, 2, 3)\n"
     ]
    }
   ],
   "source": [
    "#Exercise 2: Swap two tuples in Python\n",
    "tuple1 = (1, 2, 3)\n",
    "tuple2 = (4, 5, 6)\n",
    "\n",
    "# Swapping the tuples\n",
    "temp = tuple1  # Store tuple1 in a temporary variable\n",
    "tuple1 = tuple2  # Assign tuple2 to tuple1\n",
    "tuple2 = temp  # Assign the temporary variable (containing the original tuple1) to tuple2\n",
    "\n",
    "# Print the swapped tuples\n",
    "print(\"Swapped tuple1:\", tuple1)\n",
    "print(\"Swapped tuple2:\", tuple2)"
   ]
  },
  {
   "cell_type": "code",
   "execution_count": 51,
   "id": "8a268876",
   "metadata": {},
   "outputs": [
    {
     "name": "stdout",
     "output_type": "stream",
     "text": [
      "New tuple: (44, 55)\n"
     ]
    }
   ],
   "source": [
    "#Exercise 3: Write a program to copy elements 44 and 55 from the following tuple into a new tuple.\n",
    "#tuple1 = (11, 22, 33, 44, 55, 66)\n",
    "\n",
    "tuple1 = (11, 22, 33, 44, 55, 66)\n",
    "\n",
    "# Create a new tuple with elements 44 and 55\n",
    "new_tuple = (tuple1[3], tuple1[4])\n",
    "\n",
    "# Print the new tuple\n",
    "print(\"New tuple:\", new_tuple)\n",
    "\n",
    "\n"
   ]
  },
  {
   "cell_type": "code",
   "execution_count": null,
   "id": "3e013d39",
   "metadata": {},
   "outputs": [],
   "source": []
  }
 ],
 "metadata": {
  "kernelspec": {
   "display_name": "Python 3 (ipykernel)",
   "language": "python",
   "name": "python3"
  },
  "language_info": {
   "codemirror_mode": {
    "name": "ipython",
    "version": 3
   },
   "file_extension": ".py",
   "mimetype": "text/x-python",
   "name": "python",
   "nbconvert_exporter": "python",
   "pygments_lexer": "ipython3",
   "version": "3.11.4"
  }
 },
 "nbformat": 4,
 "nbformat_minor": 5
}
