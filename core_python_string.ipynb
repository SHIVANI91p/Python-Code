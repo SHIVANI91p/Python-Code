{
 "cells": [
  {
   "cell_type": "code",
   "execution_count": 1,
   "id": "aad51e67",
   "metadata": {},
   "outputs": [
    {
     "name": "stdout",
     "output_type": "stream",
     "text": [
      "Hello World!!!\n"
     ]
    }
   ],
   "source": [
    "var=\"Hello World!!!\"\n",
    "print(var)"
   ]
  },
  {
   "cell_type": "code",
   "execution_count": 2,
   "id": "90a50954",
   "metadata": {},
   "outputs": [
    {
     "data": {
      "text/plain": [
       "'H'"
      ]
     },
     "execution_count": 2,
     "metadata": {},
     "output_type": "execute_result"
    }
   ],
   "source": [
    "var[0]    # accessing elements with index"
   ]
  },
  {
   "cell_type": "code",
   "execution_count": 3,
   "id": "ab439643",
   "metadata": {},
   "outputs": [
    {
     "data": {
      "text/plain": [
       "'W'"
      ]
     },
     "execution_count": 3,
     "metadata": {},
     "output_type": "execute_result"
    }
   ],
   "source": [
    "var[6]"
   ]
  },
  {
   "cell_type": "code",
   "execution_count": 7,
   "id": "afa86900",
   "metadata": {},
   "outputs": [
    {
     "data": {
      "text/plain": [
       "'!'"
      ]
     },
     "execution_count": 7,
     "metadata": {},
     "output_type": "execute_result"
    }
   ],
   "source": [
    "var[11]"
   ]
  },
  {
   "cell_type": "code",
   "execution_count": 8,
   "id": "89cb402b",
   "metadata": {},
   "outputs": [
    {
     "data": {
      "text/plain": [
       "'o'"
      ]
     },
     "execution_count": 8,
     "metadata": {},
     "output_type": "execute_result"
    }
   ],
   "source": [
    "var[4]"
   ]
  },
  {
   "cell_type": "code",
   "execution_count": 17,
   "id": "2360e91a",
   "metadata": {},
   "outputs": [
    {
     "data": {
      "text/plain": [
       "'World'"
      ]
     },
     "execution_count": 17,
     "metadata": {},
     "output_type": "execute_result"
    }
   ],
   "source": [
    "var[6:11]"
   ]
  },
  {
   "cell_type": "code",
   "execution_count": 10,
   "id": "bb13dcf8",
   "metadata": {},
   "outputs": [
    {
     "data": {
      "text/plain": [
       "'Hello'"
      ]
     },
     "execution_count": 10,
     "metadata": {},
     "output_type": "execute_result"
    }
   ],
   "source": [
    "var[0:5]"
   ]
  },
  {
   "cell_type": "code",
   "execution_count": 11,
   "id": "91166aa5",
   "metadata": {},
   "outputs": [
    {
     "data": {
      "text/plain": [
       "14"
      ]
     },
     "execution_count": 11,
     "metadata": {},
     "output_type": "execute_result"
    }
   ],
   "source": [
    "var=\"Hello World!!!\"\n",
    "len(var)"
   ]
  },
  {
   "cell_type": "code",
   "execution_count": 13,
   "id": "e80cc94f",
   "metadata": {},
   "outputs": [
    {
     "data": {
      "text/plain": [
       "'Hello World!!!'"
      ]
     },
     "execution_count": 13,
     "metadata": {},
     "output_type": "execute_result"
    }
   ],
   "source": [
    "var[0:14]     # before colon we have to take position/index after colon we have to take lenth\n",
    "               # or else we can take including and excluding"
   ]
  },
  {
   "cell_type": "code",
   "execution_count": 14,
   "id": "cc03d653",
   "metadata": {},
   "outputs": [
    {
     "data": {
      "text/plain": [
       "'o'"
      ]
     },
     "execution_count": 14,
     "metadata": {},
     "output_type": "execute_result"
    }
   ],
   "source": [
    "var[-10]"
   ]
  },
  {
   "cell_type": "code",
   "execution_count": 15,
   "id": "16363551",
   "metadata": {},
   "outputs": [
    {
     "data": {
      "text/plain": [
       "'H'"
      ]
     },
     "execution_count": 15,
     "metadata": {},
     "output_type": "execute_result"
    }
   ],
   "source": [
    "var[-14]"
   ]
  },
  {
   "cell_type": "code",
   "execution_count": 18,
   "id": "817363e7",
   "metadata": {},
   "outputs": [
    {
     "data": {
      "text/plain": [
       "'World!!!'"
      ]
     },
     "execution_count": 18,
     "metadata": {},
     "output_type": "execute_result"
    }
   ],
   "source": [
    "var[6:]"
   ]
  },
  {
   "cell_type": "code",
   "execution_count": 21,
   "id": "7c45187d",
   "metadata": {},
   "outputs": [
    {
     "data": {
      "text/plain": [
       "'Hello '"
      ]
     },
     "execution_count": 21,
     "metadata": {},
     "output_type": "execute_result"
    }
   ],
   "source": [
    "var[:6]"
   ]
  },
  {
   "cell_type": "code",
   "execution_count": 30,
   "id": "6e144ea8",
   "metadata": {},
   "outputs": [
    {
     "data": {
      "text/plain": [
       "'inavihs'"
      ]
     },
     "execution_count": 30,
     "metadata": {},
     "output_type": "execute_result"
    }
   ],
   "source": [
    "a=\"shivani\"\n",
    "a[::-1]     # to reverse the string\n"
   ]
  },
  {
   "cell_type": "code",
   "execution_count": 32,
   "id": "9fa1f0a8",
   "metadata": {},
   "outputs": [
    {
     "data": {
      "text/plain": [
       "'sgivani'"
      ]
     },
     "execution_count": 32,
     "metadata": {},
     "output_type": "execute_result"
    }
   ],
   "source": [
    "a=\"shivani\"\n",
    "a.replace('h','g')   # to replace charachters in string"
   ]
  },
  {
   "cell_type": "code",
   "execution_count": 59,
   "id": "add3a7b2",
   "metadata": {},
   "outputs": [
    {
     "data": {
      "text/plain": [
       "'eshivanii'"
      ]
     },
     "execution_count": 59,
     "metadata": {},
     "output_type": "execute_result"
    }
   ],
   "source": [
    "a=\"sshivanii\"\n",
    "a.replace('s','e',1)"
   ]
  },
  {
   "cell_type": "markdown",
   "id": "b78c9e90",
   "metadata": {},
   "source": [
    "a=\"shivani\"\n",
    "a.find('a')    # to find idex position"
   ]
  },
  {
   "cell_type": "code",
   "execution_count": 42,
   "id": "86836894",
   "metadata": {},
   "outputs": [
    {
     "data": {
      "text/plain": [
       "True"
      ]
     },
     "execution_count": 42,
     "metadata": {},
     "output_type": "execute_result"
    }
   ],
   "source": [
    "x=\"Company12\"\n",
    "x.isalnum()"
   ]
  },
  {
   "cell_type": "code",
   "execution_count": 44,
   "id": "821bd21c",
   "metadata": {},
   "outputs": [
    {
     "data": {
      "text/plain": [
       "False"
      ]
     },
     "execution_count": 44,
     "metadata": {},
     "output_type": "execute_result"
    }
   ],
   "source": [
    "x=\"%&*$\"\n",
    "x.isalnum()"
   ]
  },
  {
   "cell_type": "code",
   "execution_count": 52,
   "id": "264b5a16",
   "metadata": {},
   "outputs": [
    {
     "data": {
      "text/plain": [
       "['hello', 'my name is peter', 'I am 6 years old']"
      ]
     },
     "execution_count": 52,
     "metadata": {},
     "output_type": "execute_result"
    }
   ],
   "source": [
    "txt=\"hello,my name is peter,I am 6 years old\"\n",
    "txt.split(\",\")"
   ]
  },
  {
   "cell_type": "code",
   "execution_count": 50,
   "id": "df848dce",
   "metadata": {},
   "outputs": [
    {
     "data": {
      "text/plain": [
       "['hello', 'my name is peter,I am 6 years old']"
      ]
     },
     "execution_count": 50,
     "metadata": {},
     "output_type": "execute_result"
    }
   ],
   "source": [
    "txt=\"hello,my name is peter,I am 6 years old\"\n",
    "txt.split(\",\",maxsplit=1)"
   ]
  },
  {
   "cell_type": "code",
   "execution_count": 48,
   "id": "87d79448",
   "metadata": {},
   "outputs": [
    {
     "data": {
      "text/plain": [
       "'johan#jonny#jolly'"
      ]
     },
     "execution_count": 48,
     "metadata": {},
     "output_type": "execute_result"
    }
   ],
   "source": [
    "mytup=(\"johan\",\"jonny\",\"jolly\")\n",
    "\"#\".join(mytup)"
   ]
  },
  {
   "cell_type": "code",
   "execution_count": 54,
   "id": "1fd37ba9",
   "metadata": {},
   "outputs": [
    {
     "data": {
      "text/plain": [
       "'****************shivani*****************'"
      ]
     },
     "execution_count": 54,
     "metadata": {},
     "output_type": "execute_result"
    }
   ],
   "source": [
    "txt=\"shivani\"      #\"*\" to know spaces\n",
    "txt.center(40,\"*\")"
   ]
  },
  {
   "cell_type": "code",
   "execution_count": 55,
   "id": "a8ce5822",
   "metadata": {},
   "outputs": [
    {
     "data": {
      "text/plain": [
       "2"
      ]
     },
     "execution_count": 55,
     "metadata": {},
     "output_type": "execute_result"
    }
   ],
   "source": [
    "txt=\"hello,my name is peter, peter I am 6 years old\"\n",
    "txt.count(\"peter\")"
   ]
  },
  {
   "cell_type": "code",
   "execution_count": null,
   "id": "f9980bfb",
   "metadata": {},
   "outputs": [],
   "source": []
  }
 ],
 "metadata": {
  "kernelspec": {
   "display_name": "Python 3 (ipykernel)",
   "language": "python",
   "name": "python3"
  },
  "language_info": {
   "codemirror_mode": {
    "name": "ipython",
    "version": 3
   },
   "file_extension": ".py",
   "mimetype": "text/x-python",
   "name": "python",
   "nbconvert_exporter": "python",
   "pygments_lexer": "ipython3",
   "version": "3.11.4"
  }
 },
 "nbformat": 4,
 "nbformat_minor": 5
}
