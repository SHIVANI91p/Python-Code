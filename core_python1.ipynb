{
 "cells": [
  {
   "cell_type": "code",
   "execution_count": null,
   "id": "623a1f34",
   "metadata": {},
   "outputs": [],
   "source": [
    "print(\"this is shivani\")"
   ]
  },
  {
   "cell_type": "code",
   "execution_count": null,
   "id": "9278ad37",
   "metadata": {},
   "outputs": [],
   "source": [
    "a=\"this is shivani\"\n",
    "print(a)\n",
    "print(type(a))"
   ]
  },
  {
   "cell_type": "code",
   "execution_count": null,
   "id": "796c3edd",
   "metadata": {},
   "outputs": [],
   "source": [
    "a=12\n",
    "print(a)\n",
    "print(type(a))\n",
    "print(2+3)\n",
    "print(2-3)\n",
    "print(2*3)\n",
    "print(2/3)\n",
    "print(2%3)"
   ]
  },
  {
   "cell_type": "code",
   "execution_count": null,
   "id": "f8f4088f",
   "metadata": {},
   "outputs": [],
   "source": [
    "a,b,c=90,78,56\n",
    "print(b,a,c)    #one variable can store one value"
   ]
  },
  {
   "cell_type": "code",
   "execution_count": null,
   "id": "d57d18ad",
   "metadata": {},
   "outputs": [],
   "source": [
    "print('hey,this is \"shivani\" here')   #sting"
   ]
  },
  {
   "cell_type": "code",
   "execution_count": null,
   "id": "b391c31a",
   "metadata": {},
   "outputs": [],
   "source": [
    "print(\"this is\" + \"India\")   #string concatination"
   ]
  },
  {
   "cell_type": "code",
   "execution_count": null,
   "id": "5e1d36a3",
   "metadata": {},
   "outputs": [],
   "source": [
    "a=10\n",
    "print(\"this is\",a)\n",
    "type(a)"
   ]
  },
  {
   "cell_type": "code",
   "execution_count": null,
   "id": "fd69245c",
   "metadata": {},
   "outputs": [],
   "source": [
    "a=21   #integer\n",
    "print(a)\n",
    "print(type(a))\n",
    "b=4.5    #float\n",
    "print(b)\n",
    "print(type(b))\n",
    "c=\"abc\"   #string\n",
    "print(c)\n",
    "print(type(c))\n",
    "d=12!=13    # == boolean\n",
    "print(d)\n",
    "print(type(d))\n"
   ]
  },
  {
   "cell_type": "markdown",
   "id": "358ed0c0",
   "metadata": {},
   "source": [
    "# variable with its rules"
   ]
  },
  {
   "cell_type": "code",
   "execution_count": null,
   "id": "2591c369",
   "metadata": {},
   "outputs": [],
   "source": [
    "a1=\"India\"                         #python is case sensitive\n",
    "print(\"I Love my country:\",a1)  # We cant use number before the variable but can use after variable\n",
    "                                # we can start naming variable with(_)  ex. _a_b"
   ]
  },
  {
   "cell_type": "code",
   "execution_count": null,
   "id": "4c8f9550",
   "metadata": {},
   "outputs": [],
   "source": [
    "a_b=\"India\"                        # space is not allowed in variable\n",
    "print(\"I Love my country:\",a_b)   # we can only us one special character that is (_) underscore"
   ]
  },
  {
   "cell_type": "code",
   "execution_count": null,
   "id": "760c1898",
   "metadata": {},
   "outputs": [],
   "source": [
    "print1=\"India\"\n",
    "print(\"I Love my country:\",print1)   # we cant use keyword as variable nut we can use keyword as variable if we add any number\n",
    "                                      #with it"
   ]
  },
  {
   "cell_type": "markdown",
   "id": "50edbfdb",
   "metadata": {},
   "source": [
    "# Type conversion/cast"
   ]
  },
  {
   "cell_type": "code",
   "execution_count": 2,
   "id": "6e371648",
   "metadata": {
    "collapsed": true
   },
   "outputs": [
    {
     "name": "stdout",
     "output_type": "stream",
     "text": [
      "6.4\n"
     ]
    },
    {
     "data": {
      "text/plain": [
       "float"
      ]
     },
     "execution_count": 2,
     "metadata": {},
     "output_type": "execute_result"
    }
   ],
   "source": [
    "#implicit type conversion\n",
    "a=3\n",
    "b=3.4\n",
    "c=a+b\n",
    "print(c)\n",
    "type(c)"
   ]
  },
  {
   "cell_type": "code",
   "execution_count": 1,
   "id": "3cb020b8",
   "metadata": {
    "collapsed": true
   },
   "outputs": [
    {
     "name": "stdout",
     "output_type": "stream",
     "text": [
      "6.4\n"
     ]
    },
    {
     "data": {
      "text/plain": [
       "float"
      ]
     },
     "execution_count": 1,
     "metadata": {},
     "output_type": "execute_result"
    }
   ],
   "source": [
    "#explicit type conversion/tepe cast\n",
    "a=\"3\"  # now it is string\n",
    "a1=int(a)\n",
    "b=3.4\n",
    "c=a1+b\n",
    "print(c)\n",
    "type(c)"
   ]
  },
  {
   "cell_type": "code",
   "execution_count": 3,
   "id": "c18eb4cc",
   "metadata": {},
   "outputs": [
    {
     "name": "stdout",
     "output_type": "stream",
     "text": [
      "33.4\n"
     ]
    },
    {
     "data": {
      "text/plain": [
       "str"
      ]
     },
     "execution_count": 3,
     "metadata": {},
     "output_type": "execute_result"
    }
   ],
   "source": [
    "#EXPLICIT TYPE CONVERSION/TPE CAST\n",
    "a=\"3\"\n",
    "b=3.4\n",
    "b1=str(b)\n",
    "c=a+b1\n",
    "print(c)\n",
    "type(c)"
   ]
  },
  {
   "cell_type": "markdown",
   "id": "5d669d2e",
   "metadata": {},
   "source": [
    "# User-defind input statement"
   ]
  },
  {
   "cell_type": "code",
   "execution_count": null,
   "id": "17c86b1a",
   "metadata": {},
   "outputs": [],
   "source": [
    "a=int(input(\"Enter a number:\"))   #for integer\n",
    "print(a)"
   ]
  },
  {
   "cell_type": "code",
   "execution_count": null,
   "id": "0134634a",
   "metadata": {},
   "outputs": [],
   "source": [
    "a=float(input(\"Enter a number:\"))       #for float\n",
    "print(a)  "
   ]
  },
  {
   "cell_type": "code",
   "execution_count": null,
   "id": "009b8574",
   "metadata": {},
   "outputs": [],
   "source": [
    "a=input(\"Enter a number:\")            #for string\n",
    "print(a)"
   ]
  },
  {
   "cell_type": "code",
   "execution_count": null,
   "id": "b97acdca",
   "metadata": {},
   "outputs": [],
   "source": [
    "a=int(input(\"Enter 1st number:\"))\n",
    "b=float(input(\"Enter 2nd number:\"))\n",
    "print(a+b)"
   ]
  },
  {
   "cell_type": "code",
   "execution_count": null,
   "id": "4a254338",
   "metadata": {},
   "outputs": [],
   "source": [
    "\n"
   ]
  },
  {
   "cell_type": "code",
   "execution_count": null,
   "id": "79d46113",
   "metadata": {},
   "outputs": [],
   "source": []
  },
  {
   "cell_type": "code",
   "execution_count": null,
   "id": "aaa82b5b",
   "metadata": {},
   "outputs": [],
   "source": [
    "\n"
   ]
  },
  {
   "cell_type": "code",
   "execution_count": null,
   "id": "7d5afdea",
   "metadata": {},
   "outputs": [],
   "source": []
  },
  {
   "cell_type": "code",
   "execution_count": null,
   "id": "849bb8a6",
   "metadata": {},
   "outputs": [],
   "source": [
    "\n"
   ]
  },
  {
   "cell_type": "code",
   "execution_count": null,
   "id": "d5c4b595",
   "metadata": {},
   "outputs": [],
   "source": []
  },
  {
   "cell_type": "code",
   "execution_count": null,
   "id": "e8565618",
   "metadata": {},
   "outputs": [],
   "source": []
  },
  {
   "cell_type": "code",
   "execution_count": null,
   "id": "75aaa128",
   "metadata": {},
   "outputs": [],
   "source": []
  }
 ],
 "metadata": {
  "kernelspec": {
   "display_name": "Python 3 (ipykernel)",
   "language": "python",
   "name": "python3"
  },
  "language_info": {
   "codemirror_mode": {
    "name": "ipython",
    "version": 3
   },
   "file_extension": ".py",
   "mimetype": "text/x-python",
   "name": "python",
   "nbconvert_exporter": "python",
   "pygments_lexer": "ipython3",
   "version": "3.11.4"
  }
 },
 "nbformat": 4,
 "nbformat_minor": 5
}
